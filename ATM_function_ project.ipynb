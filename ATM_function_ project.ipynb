{
 "cells": [
  {
   "cell_type": "code",
   "execution_count": 1,
   "id": "7b683866",
   "metadata": {},
   "outputs": [],
   "source": []
  },
  {
   "cell_type": "code",
   "execution_count": null,
   "id": "c2070e8f",
   "metadata": {},
   "outputs": [],
   "source": []
  },
  {
   "cell_type": "code",
   "execution_count": 30,
   "id": "29d1adff",
   "metadata": {},
   "outputs": [
    {
     "name": "stdout",
     "output_type": "stream",
     "text": [
      "Your current balance is: $100.00.\n"
     ]
    }
   ],
   "source": [
    "balance = 100\n",
    "\n",
    "def view_balances(balance):\n",
    "    print(f\"Your current balance is: ${balance:.2f}.\")\n",
    "    \n",
    "    \n",
    "view_balances(balance)"
   ]
  },
  {
   "cell_type": "code",
   "execution_count": null,
   "id": "eb24da28",
   "metadata": {},
   "outputs": [],
   "source": [
    "    "
   ]
  },
  {
   "cell_type": "code",
   "execution_count": 1,
   "id": "56e95cdc",
   "metadata": {},
   "outputs": [
    {
     "name": "stdout",
     "output_type": "stream",
     "text": [
      "\n",
      "What would you like to do?\n",
      "\n",
      "1) View current balance\n",
      "2) Record a debit (withdraw)\n",
      "3) Record a debit (deposit)\n",
      "4) Exit\n",
      "\n",
      "Your choice? 1\n",
      "Your current balance is $100.00.\n",
      "\n",
      "What would you like to do?\n",
      "\n",
      "1) View current balance\n",
      "2) Record a debit (withdraw)\n",
      "3) Record a debit (deposit)\n",
      "4) Exit\n",
      "\n",
      "Your choice? 2\n",
      "\n",
      "How much do you wish to withdrawl? $20\n",
      "$20.00 has been debited from your account.\n",
      "\n",
      "Your new balance is: $80.00.\n",
      "\n",
      "What would you like to do?\n",
      "\n",
      "1) View current balance\n",
      "2) Record a debit (withdraw)\n",
      "3) Record a debit (deposit)\n",
      "4) Exit\n",
      "\n",
      "Your choice? 3\n",
      "\n",
      "How much do you wish to deposit? $45\n",
      "$45.00 has been credited to your account.\n",
      "\n",
      "Your new balance is: $125.00.\n",
      "\n",
      "What would you like to do?\n",
      "\n",
      "1) View current balance\n",
      "2) Record a debit (withdraw)\n",
      "3) Record a debit (deposit)\n",
      "4) Exit\n",
      "\n",
      "Your choice? 4\n",
      "\n",
      "Thank you for using our ATM services!\n"
     ]
    }
   ],
   "source": [
    "def view_balance(balance):\n",
    "    print(f\"Your current balance is ${balance:.2f}.\")\n",
    "\n",
    "def withdrawl(balance, amount):\n",
    "    if amount > balance:\n",
    "        print(f\"Insufficient funds. Your balance is: ${balance:.2f}.\")\n",
    "    else:\n",
    "        balance -= amount\n",
    "        print(f\"${amount:.2f} has been debited from your account.\")\n",
    "        print(f\"\\nYour new balance is: ${balance:.2f}.\")\n",
    "\n",
    "    return balance\n",
    "\n",
    "def deposit(balance, amount):\n",
    "    balance += amount\n",
    "    print(f\"${amount:.2f} has been credited to your account.\")\n",
    "    print(f\"\\nYour new balance is: ${balance:.2f}.\")\n",
    "\n",
    "    return balance\n",
    "\n",
    "def main():\n",
    "    balance = 100.00\n",
    "\n",
    "    while True:\n",
    "        print(\"\\nWhat would you like to do?\\n\")\n",
    "        print(\"1) View current balance\")\n",
    "        print(\"2) Record a debit (withdraw)\")\n",
    "        print(\"3) Record a debit (deposit)\")\n",
    "        print(\"4) Exit\")\n",
    "\n",
    "        choice = input(\"\\nYour choice? \")\n",
    "\n",
    "        if choice == '1':\n",
    "            view_balance(balance)\n",
    "        elif choice == '2':\n",
    "            amount = float(input(\"\\nHow much do you wish to withdrawl? $\"))\n",
    "            balance = withdrawl(balance, amount)\n",
    "        elif choice == '3':\n",
    "            amount = float(input(\"\\nHow much do you wish to deposit? $\"))\n",
    "            balance = deposit(balance, amount)\n",
    "        elif choice == '4':\n",
    "            print(\"\\nThank you for using our ATM services!\")\n",
    "            break\n",
    "        else:\n",
    "            print(f\"Invalid choice: {choice}\")\n",
    "\n",
    "if __name__ == \"__main__\":\n",
    "    main()\n"
   ]
  },
  {
   "cell_type": "code",
   "execution_count": null,
   "id": "ac7c5270",
   "metadata": {},
   "outputs": [],
   "source": []
  },
  {
   "cell_type": "code",
   "execution_count": null,
   "id": "88dfa54d",
   "metadata": {},
   "outputs": [],
   "source": []
  },
  {
   "cell_type": "code",
   "execution_count": 3,
   "id": "c46b0e8a",
   "metadata": {},
   "outputs": [
    {
     "name": "stdout",
     "output_type": "stream",
     "text": [
      "\n",
      "What would you like to do?\n",
      "\n",
      "1) View current balance\n",
      "2) Record a debit (withdraw)\n",
      "3) Record a credit (deposit)\n",
      "4) Exit\n",
      "\n",
      "Your choice? 1\n",
      "Your current balance is $100.00.\n",
      "\n",
      "What would you like to do?\n",
      "\n",
      "1) View current balance\n",
      "2) Record a debit (withdraw)\n",
      "3) Record a credit (deposit)\n",
      "4) Exit\n",
      "\n",
      "Your choice? 2\n",
      "\n",
      "How much do you wish to withdraw? $20\n",
      "$20.00 has been debited from your account.\n",
      "\n",
      "Your new balance is: $80.00.\n",
      "\n",
      "What would you like to do?\n",
      "\n",
      "1) View current balance\n",
      "2) Record a debit (withdraw)\n",
      "3) Record a credit (deposit)\n",
      "4) Exit\n",
      "\n",
      "Your choice? 3\n",
      "\n",
      "How much do you wish to deposit? $45\n",
      "$45.00 has been credited to your account.\n",
      "\n",
      "Your new balance is: $125.00.\n",
      "\n",
      "What would you like to do?\n",
      "\n",
      "1) View current balance\n",
      "2) Record a debit (withdraw)\n",
      "3) Record a credit (deposit)\n",
      "4) Exit\n",
      "\n",
      "Your choice? 4\n",
      "\n",
      "Thank you for using our ATM services!\n"
     ]
    }
   ],
   "source": [
    "def view_balance(balance):\n",
    "    print(f\"Your current balance is ${balance:.2f}.\")\n",
    "\n",
    "def withdrawal(balance, amount):\n",
    "    if amount > balance:\n",
    "        print(f\"Insufficient funds. Your balance is: ${balance:.2f}.\")\n",
    "    else:\n",
    "        balance -= amount\n",
    "        print(f\"${amount:.2f} has been debited from your account.\")\n",
    "        print(f\"\\nYour new balance is: ${balance:.2f}.\")\n",
    "\n",
    "    return balance\n",
    "\n",
    "def deposit(balance, amount):\n",
    "    balance += amount\n",
    "    print(f\"${amount:.2f} has been credited to your account.\")\n",
    "    print(f\"\\nYour new balance is: ${balance:.2f}.\")\n",
    "\n",
    "    return balance\n",
    "\n",
    "def main():\n",
    "    balance = 100.00\n",
    "\n",
    "    while True:\n",
    "        print(\"\\nWhat would you like to do?\\n\")\n",
    "        print(\"1) View current balance\")\n",
    "        print(\"2) Record a debit (withdraw)\")\n",
    "        print(\"3) Record a credit (deposit)\")\n",
    "        print(\"4) Exit\")\n",
    "\n",
    "        choice = input(\"\\nYour choice? \")\n",
    "\n",
    "        if choice == '1':\n",
    "            view_balance(balance)\n",
    "        elif choice == '2':\n",
    "            amount = float(input(\"\\nHow much do you wish to withdraw? $\"))\n",
    "            balance = withdrawal(balance, amount)\n",
    "        elif choice == '3':\n",
    "            amount = float(input(\"\\nHow much do you wish to deposit? $\"))\n",
    "            balance = deposit(balance, amount)\n",
    "        elif choice == '4':\n",
    "            print(\"\\nThank you for using our ATM services!\")\n",
    "            break\n",
    "        else:\n",
    "            print(f\"Invalid choice: {choice}\")\n",
    "\n",
    "    # Save the results to a text file\n",
    "    with open(\"atm_results.txt\", \"w\") as atm_file:\n",
    "        atm_file.write(f\"Final Balance: ${balance:.2f}\")\n",
    "\n",
    "if __name__ == \"__main__\":\n",
    "    main()\n"
   ]
  },
  {
   "cell_type": "code",
   "execution_count": null,
   "id": "e514448c",
   "metadata": {},
   "outputs": [],
   "source": []
  },
  {
   "cell_type": "code",
   "execution_count": 20,
   "id": "b4aab736",
   "metadata": {},
   "outputs": [
    {
     "name": "stdout",
     "output_type": "stream",
     "text": [
      "$100.00 has been credited to your account.\n",
      "Your new balance is: $200.00.\n"
     ]
    }
   ],
   "source": [
    "\n",
    "\n",
    "def deposit_of_funds(amount):\n",
    "    balance=100\n",
    "    amount = float(input(\"\\nHow much do you wish to deposit? $\"))\n",
    "\n",
    "    balance += amount\n",
    "    print(f\"${amount:.2f} has been credited to your account.\")\n",
    "    #return balance\n",
    "    print(f\"Your new balance is: ${balance:.2f}.\")\n",
    "\n",
    "\n",
    "record_credit(100)"
   ]
  },
  {
   "cell_type": "code",
   "execution_count": null,
   "id": "507c270f",
   "metadata": {},
   "outputs": [],
   "source": []
  },
  {
   "cell_type": "code",
   "execution_count": 19,
   "id": "c9ede7fc",
   "metadata": {},
   "outputs": [
    {
     "name": "stdout",
     "output_type": "stream",
     "text": [
      "\n",
      "How much do you wish to withdrawl? $300\n",
      "Insufficient funds. Your balance is: $-200.00.\n"
     ]
    }
   ],
   "source": [
    "\n",
    "\n",
    "def withdrawl_of_funds(amount):\n",
    "    balance=100\n",
    "    amount = float(input(\"\\nHow much do you wish to withdrawl? $\"))\n",
    "\n",
    "    if amount > balance:\n",
    "        print(f\"Insufficient funds. Your balance is: ${balance-amount:.2f}.\")\n",
    "    else:\n",
    "        balance -= amount\n",
    "        print(f\"${amount:.2f} has been debited from your account.\")\n",
    "        print(f\"\\nYour new balance is: ${balance:.2f}.\")\n",
    "\n",
    "\n",
    "withdrawl_of_funds(200)"
   ]
  },
  {
   "cell_type": "code",
   "execution_count": null,
   "id": "6f6b10cf",
   "metadata": {},
   "outputs": [],
   "source": []
  },
  {
   "cell_type": "code",
   "execution_count": null,
   "id": "028d5aec",
   "metadata": {},
   "outputs": [],
   "source": []
  },
  {
   "cell_type": "code",
   "execution_count": null,
   "id": "f11b86df",
   "metadata": {},
   "outputs": [],
   "source": []
  },
  {
   "cell_type": "code",
   "execution_count": null,
   "id": "0a6547f4",
   "metadata": {},
   "outputs": [],
   "source": [
    "## Bonus Material"
   ]
  },
  {
   "cell_type": "code",
   "execution_count": null,
   "id": "36966073",
   "metadata": {
    "tags": []
   },
   "outputs": [],
   "source": []
  },
  {
   "cell_type": "code",
   "execution_count": null,
   "id": "21ebcedc",
   "metadata": {},
   "outputs": [],
   "source": []
  },
  {
   "cell_type": "code",
   "execution_count": null,
   "id": "4c8f3af0",
   "metadata": {},
   "outputs": [],
   "source": []
  },
  {
   "cell_type": "code",
   "execution_count": null,
   "id": "e8d5938c",
   "metadata": {},
   "outputs": [],
   "source": []
  },
  {
   "cell_type": "code",
   "execution_count": null,
   "id": "b0c63759",
   "metadata": {},
   "outputs": [],
   "source": []
  },
  {
   "cell_type": "code",
   "execution_count": null,
   "id": "affd0a70",
   "metadata": {},
   "outputs": [],
   "source": []
  },
  {
   "cell_type": "code",
   "execution_count": null,
   "id": "d687abdc",
   "metadata": {},
   "outputs": [],
   "source": []
  },
  {
   "cell_type": "code",
   "execution_count": null,
   "id": "b7bd7f41",
   "metadata": {},
   "outputs": [],
   "source": []
  },
  {
   "cell_type": "code",
   "execution_count": null,
   "id": "879d8578",
   "metadata": {},
   "outputs": [],
   "source": []
  },
  {
   "cell_type": "code",
   "execution_count": null,
   "id": "4f643347",
   "metadata": {},
   "outputs": [],
   "source": []
  }
 ],
 "metadata": {
  "kernelspec": {
   "display_name": "Python 3 (ipykernel)",
   "language": "python",
   "name": "python3"
  },
  "language_info": {
   "codemirror_mode": {
    "name": "ipython",
    "version": 3
   },
   "file_extension": ".py",
   "mimetype": "text/x-python",
   "name": "python",
   "nbconvert_exporter": "python",
   "pygments_lexer": "ipython3",
   "version": "3.11.5"
  }
 },
 "nbformat": 4,
 "nbformat_minor": 5
}
